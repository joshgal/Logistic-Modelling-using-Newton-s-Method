{
  "nbformat": 4,
  "nbformat_minor": 0,
  "metadata": {
    "colab": {
      "name": "Tubes Numerik.ipynb",
      "provenance": [],
      "collapsed_sections": []
    },
    "kernelspec": {
      "name": "python3",
      "display_name": "Python 3"
    }
  },
  "cells": [
    {
      "cell_type": "markdown",
      "metadata": {
        "id": "LuoH1b6e-cDA"
      },
      "source": [
        "# **Logistic Modelling Using Newton's Method**\r\n",
        "\r\n",
        "\r\n",
        "\r\n",
        "*  Terdapat berbagai cara untuk membuat klasifikasi pada data, salah satunya adalah menggunakan model logistik. Dalam menggunakan model logistik dapat juga digunakan metode newton. Umumnya, metode newton merupakan metode penyelesaian masalah untuk sistem persamaan nonlinear menggunakan skema iteratif/perulangan. \r\n",
        "*   Klasifikasi menggunakan metode newton memerlukan parameter betha. Parameter betha yang akan ditemukan akan terlebih dahulu dicari untuk kemudian dipakai pada proses klasifikasi data.\r\n",
        "*Berikut ini adalah parameter-parameter yang digunakan dalam mencari betha yang optimal.\r\n",
        "\r\n",
        "> ![picture](https://drive.google.com/uc?export=view&id=1kU5pZXN9oBMPFUmnZr7i6QX-WpiIZQPH)\r\n",
        "\r\n",
        "\r\n",
        "\r\n",
        "---\r\n",
        "\r\n",
        "Dataset yang digunakan adalah dataset data Transaksi Fraudulent dan Non-fraudulent yang berasal dari website data mining cup 2019. Namun, pada pengerjaan klasifikasi kali ini data sudah terlebih dahulu di preprocess menggunakan one hot encoding yang mengubah kolom data numerik menjadi kategorikal. Dataset dapat diakses melalui link dibawah ini.\r\n",
        "\r\n",
        "https://drive.google.com/file/d/1zssdQonNRtk1MvNIEIyBvBKcefk1gfRh/view?usp=sharing"
      ]
    },
    {
      "cell_type": "markdown",
      "metadata": {
        "id": "Rjd0iBG1Es0o"
      },
      "source": [
        "**Persiapan Data dan Library**"
      ]
    },
    {
      "cell_type": "code",
      "metadata": {
        "id": "TUnSvHYYLgDb"
      },
      "source": [
        "#Persiapan library untuk mempermudah proses keseluruhan\r\n",
        "import pandas as pd\r\n",
        "import numpy as np\r\n",
        "import seaborn as sns\r\n",
        "import matplotlib.pyplot as plt\r\n",
        "from sklearn.metrics import classification_report\r\n",
        "from sklearn.model_selection import cross_validate\r\n",
        "from sklearn.model_selection import train_test_split \r\n",
        "from sklearn.metrics import confusion_matrix"
      ],
      "execution_count": 129,
      "outputs": []
    },
    {
      "cell_type": "code",
      "metadata": {
        "colab": {
          "base_uri": "https://localhost:8080/"
        },
        "id": "30FO_wNSXNPO",
        "outputId": "52cf20f8-d42f-4fb5-929d-89e4cea1ee9d"
      },
      "source": [
        "from google.colab import drive\r\n",
        "drive.mount('/content/drive')"
      ],
      "execution_count": 130,
      "outputs": [
        {
          "output_type": "stream",
          "text": [
            "Drive already mounted at /content/drive; to attempt to forcibly remount, call drive.mount(\"/content/drive\", force_remount=True).\n"
          ],
          "name": "stdout"
        }
      ]
    },
    {
      "cell_type": "code",
      "metadata": {
        "id": "SM7507CCbm4p"
      },
      "source": [
        "pure = pd.read_csv('/content/drive/My Drive/fraudulent_non-fraudulent_transaction.csv')"
      ],
      "execution_count": 131,
      "outputs": []
    },
    {
      "cell_type": "code",
      "metadata": {
        "id": "ix90ffQDxUDa"
      },
      "source": [
        "#Sampling pada data dengan memperhatikan keseimbangan jumlah kelas\r\n",
        "#Masing-masing kelas akan memiliki jumlah yang imbang\r\n",
        "count = 100\r\n",
        "data = pure.copy()\r\n",
        "data = data.rename(columns={'fraud_0': 'fraud'})\r\n",
        "data.drop('fraud_1', inplace=True, axis=1)\r\n",
        "data1 = data[data['fraud']==0].sample(int(count))\r\n",
        "data2 = data[data['fraud']==1].sample(int(count))\r\n",
        "data = data1.append(data2, ignore_index = True)"
      ],
      "execution_count": 132,
      "outputs": []
    },
    {
      "cell_type": "code",
      "metadata": {
        "colab": {
          "base_uri": "https://localhost:8080/"
        },
        "id": "AsfYiiy3cvCw",
        "outputId": "0f38d202-8bc8-4f38-a06f-b7cf4120261e"
      },
      "source": [
        "data.info()"
      ],
      "execution_count": 133,
      "outputs": [
        {
          "output_type": "stream",
          "text": [
            "<class 'pandas.core.frame.DataFrame'>\n",
            "RangeIndex: 200 entries, 0 to 199\n",
            "Data columns (total 32 columns):\n",
            " #   Column                         Non-Null Count  Dtype  \n",
            "---  ------                         --------------  -----  \n",
            " 0   Unnamed: 0                     200 non-null    int64  \n",
            " 1   trustLevel_1                   200 non-null    float64\n",
            " 2   trustLevel_2                   200 non-null    float64\n",
            " 3   trustLevel_3                   200 non-null    float64\n",
            " 4   trustLevel_4                   200 non-null    float64\n",
            " 5   trustLevel_5                   200 non-null    float64\n",
            " 6   trustLevel_6                   200 non-null    float64\n",
            " 7   totalScanTimeInSeconds_hi      200 non-null    float64\n",
            " 8   totalScanTimeInSeconds_lo      200 non-null    float64\n",
            " 9   totalScanTimeInSeconds_med     200 non-null    float64\n",
            " 10  grandTotal_hi                  200 non-null    float64\n",
            " 11  grandTotal_lo                  200 non-null    float64\n",
            " 12  grandTotal_med                 200 non-null    float64\n",
            " 13  lineItemVoids_hi               200 non-null    float64\n",
            " 14  lineItemVoids_lo               200 non-null    float64\n",
            " 15  lineItemVoids_med              200 non-null    float64\n",
            " 16  scansWithoutRegistration_hi    200 non-null    float64\n",
            " 17  scansWithoutRegistration_lo    200 non-null    float64\n",
            " 18  scansWithoutRegistration_med   200 non-null    float64\n",
            " 19  quantityModifications_hi       200 non-null    float64\n",
            " 20  quantityModifications_lo       200 non-null    float64\n",
            " 21  quantityModifications_med      200 non-null    float64\n",
            " 22  scannedLineItemsPerSecond_hi   200 non-null    float64\n",
            " 23  scannedLineItemsPerSecond_lo   200 non-null    float64\n",
            " 24  scannedLineItemsPerSecond_med  200 non-null    float64\n",
            " 25  valuePerSecond_hi              200 non-null    float64\n",
            " 26  valuePerSecond_lo              200 non-null    float64\n",
            " 27  valuePerSecond_med             200 non-null    float64\n",
            " 28  lineItemVoidsPerPosition_hi    200 non-null    float64\n",
            " 29  lineItemVoidsPerPosition_lo    200 non-null    float64\n",
            " 30  lineItemVoidsPerPosition_med   200 non-null    float64\n",
            " 31  fraud                          200 non-null    float64\n",
            "dtypes: float64(31), int64(1)\n",
            "memory usage: 50.1 KB\n"
          ],
          "name": "stdout"
        }
      ]
    },
    {
      "cell_type": "code",
      "metadata": {
        "id": "RrwmOh_acrx4"
      },
      "source": [
        "X = data.iloc[:,1:30]\r\n",
        "y = data.iloc[:,31]"
      ],
      "execution_count": 134,
      "outputs": []
    },
    {
      "cell_type": "code",
      "metadata": {
        "id": "eyuhju_99JTh"
      },
      "source": [
        "col = np.linspace(1.0, 1.0, len(X))\r\n",
        "X.insert(loc=0, column='addedFeature', value=col)"
      ],
      "execution_count": 135,
      "outputs": []
    },
    {
      "cell_type": "code",
      "metadata": {
        "colab": {
          "base_uri": "https://localhost:8080/",
          "height": 367
        },
        "id": "RkB3xXsCfMiQ",
        "outputId": "c43fe868-e5f1-4b9a-ced4-856e614fee65"
      },
      "source": [
        "X.head(10)"
      ],
      "execution_count": 136,
      "outputs": [
        {
          "output_type": "execute_result",
          "data": {
            "text/html": [
              "<div>\n",
              "<style scoped>\n",
              "    .dataframe tbody tr th:only-of-type {\n",
              "        vertical-align: middle;\n",
              "    }\n",
              "\n",
              "    .dataframe tbody tr th {\n",
              "        vertical-align: top;\n",
              "    }\n",
              "\n",
              "    .dataframe thead th {\n",
              "        text-align: right;\n",
              "    }\n",
              "</style>\n",
              "<table border=\"1\" class=\"dataframe\">\n",
              "  <thead>\n",
              "    <tr style=\"text-align: right;\">\n",
              "      <th></th>\n",
              "      <th>addedFeature</th>\n",
              "      <th>trustLevel_1</th>\n",
              "      <th>trustLevel_2</th>\n",
              "      <th>trustLevel_3</th>\n",
              "      <th>trustLevel_4</th>\n",
              "      <th>trustLevel_5</th>\n",
              "      <th>trustLevel_6</th>\n",
              "      <th>totalScanTimeInSeconds_hi</th>\n",
              "      <th>totalScanTimeInSeconds_lo</th>\n",
              "      <th>totalScanTimeInSeconds_med</th>\n",
              "      <th>grandTotal_hi</th>\n",
              "      <th>grandTotal_lo</th>\n",
              "      <th>grandTotal_med</th>\n",
              "      <th>lineItemVoids_hi</th>\n",
              "      <th>lineItemVoids_lo</th>\n",
              "      <th>lineItemVoids_med</th>\n",
              "      <th>scansWithoutRegistration_hi</th>\n",
              "      <th>scansWithoutRegistration_lo</th>\n",
              "      <th>scansWithoutRegistration_med</th>\n",
              "      <th>quantityModifications_hi</th>\n",
              "      <th>quantityModifications_lo</th>\n",
              "      <th>quantityModifications_med</th>\n",
              "      <th>scannedLineItemsPerSecond_hi</th>\n",
              "      <th>scannedLineItemsPerSecond_lo</th>\n",
              "      <th>scannedLineItemsPerSecond_med</th>\n",
              "      <th>valuePerSecond_hi</th>\n",
              "      <th>valuePerSecond_lo</th>\n",
              "      <th>valuePerSecond_med</th>\n",
              "      <th>lineItemVoidsPerPosition_hi</th>\n",
              "      <th>lineItemVoidsPerPosition_lo</th>\n",
              "    </tr>\n",
              "  </thead>\n",
              "  <tbody>\n",
              "    <tr>\n",
              "      <th>0</th>\n",
              "      <td>1.0</td>\n",
              "      <td>1.0</td>\n",
              "      <td>0.0</td>\n",
              "      <td>0.0</td>\n",
              "      <td>0.0</td>\n",
              "      <td>0.0</td>\n",
              "      <td>0.0</td>\n",
              "      <td>1.0</td>\n",
              "      <td>0.0</td>\n",
              "      <td>0.0</td>\n",
              "      <td>0.0</td>\n",
              "      <td>0.0</td>\n",
              "      <td>1.0</td>\n",
              "      <td>1.0</td>\n",
              "      <td>0.0</td>\n",
              "      <td>0.0</td>\n",
              "      <td>0.0</td>\n",
              "      <td>1.0</td>\n",
              "      <td>0.0</td>\n",
              "      <td>0.0</td>\n",
              "      <td>0.0</td>\n",
              "      <td>1.0</td>\n",
              "      <td>0.0</td>\n",
              "      <td>0.0</td>\n",
              "      <td>1.0</td>\n",
              "      <td>0.0</td>\n",
              "      <td>0.0</td>\n",
              "      <td>1.0</td>\n",
              "      <td>0.0</td>\n",
              "      <td>0.0</td>\n",
              "    </tr>\n",
              "    <tr>\n",
              "      <th>1</th>\n",
              "      <td>1.0</td>\n",
              "      <td>1.0</td>\n",
              "      <td>0.0</td>\n",
              "      <td>0.0</td>\n",
              "      <td>0.0</td>\n",
              "      <td>0.0</td>\n",
              "      <td>0.0</td>\n",
              "      <td>0.0</td>\n",
              "      <td>0.0</td>\n",
              "      <td>1.0</td>\n",
              "      <td>0.0</td>\n",
              "      <td>1.0</td>\n",
              "      <td>0.0</td>\n",
              "      <td>0.0</td>\n",
              "      <td>0.0</td>\n",
              "      <td>1.0</td>\n",
              "      <td>1.0</td>\n",
              "      <td>0.0</td>\n",
              "      <td>0.0</td>\n",
              "      <td>0.0</td>\n",
              "      <td>0.0</td>\n",
              "      <td>1.0</td>\n",
              "      <td>0.0</td>\n",
              "      <td>0.0</td>\n",
              "      <td>1.0</td>\n",
              "      <td>0.0</td>\n",
              "      <td>1.0</td>\n",
              "      <td>0.0</td>\n",
              "      <td>0.0</td>\n",
              "      <td>0.0</td>\n",
              "    </tr>\n",
              "    <tr>\n",
              "      <th>2</th>\n",
              "      <td>1.0</td>\n",
              "      <td>1.0</td>\n",
              "      <td>0.0</td>\n",
              "      <td>0.0</td>\n",
              "      <td>0.0</td>\n",
              "      <td>0.0</td>\n",
              "      <td>0.0</td>\n",
              "      <td>0.0</td>\n",
              "      <td>1.0</td>\n",
              "      <td>0.0</td>\n",
              "      <td>1.0</td>\n",
              "      <td>0.0</td>\n",
              "      <td>0.0</td>\n",
              "      <td>0.0</td>\n",
              "      <td>1.0</td>\n",
              "      <td>0.0</td>\n",
              "      <td>0.0</td>\n",
              "      <td>0.0</td>\n",
              "      <td>1.0</td>\n",
              "      <td>0.0</td>\n",
              "      <td>1.0</td>\n",
              "      <td>0.0</td>\n",
              "      <td>1.0</td>\n",
              "      <td>0.0</td>\n",
              "      <td>0.0</td>\n",
              "      <td>1.0</td>\n",
              "      <td>0.0</td>\n",
              "      <td>0.0</td>\n",
              "      <td>0.0</td>\n",
              "      <td>1.0</td>\n",
              "    </tr>\n",
              "    <tr>\n",
              "      <th>3</th>\n",
              "      <td>1.0</td>\n",
              "      <td>1.0</td>\n",
              "      <td>0.0</td>\n",
              "      <td>0.0</td>\n",
              "      <td>0.0</td>\n",
              "      <td>0.0</td>\n",
              "      <td>0.0</td>\n",
              "      <td>0.0</td>\n",
              "      <td>0.0</td>\n",
              "      <td>1.0</td>\n",
              "      <td>0.0</td>\n",
              "      <td>1.0</td>\n",
              "      <td>0.0</td>\n",
              "      <td>0.0</td>\n",
              "      <td>0.0</td>\n",
              "      <td>1.0</td>\n",
              "      <td>0.0</td>\n",
              "      <td>0.0</td>\n",
              "      <td>1.0</td>\n",
              "      <td>0.0</td>\n",
              "      <td>0.0</td>\n",
              "      <td>1.0</td>\n",
              "      <td>1.0</td>\n",
              "      <td>0.0</td>\n",
              "      <td>0.0</td>\n",
              "      <td>0.0</td>\n",
              "      <td>0.0</td>\n",
              "      <td>1.0</td>\n",
              "      <td>0.0</td>\n",
              "      <td>0.0</td>\n",
              "    </tr>\n",
              "    <tr>\n",
              "      <th>4</th>\n",
              "      <td>1.0</td>\n",
              "      <td>1.0</td>\n",
              "      <td>0.0</td>\n",
              "      <td>0.0</td>\n",
              "      <td>0.0</td>\n",
              "      <td>0.0</td>\n",
              "      <td>0.0</td>\n",
              "      <td>0.0</td>\n",
              "      <td>0.0</td>\n",
              "      <td>1.0</td>\n",
              "      <td>0.0</td>\n",
              "      <td>1.0</td>\n",
              "      <td>0.0</td>\n",
              "      <td>1.0</td>\n",
              "      <td>0.0</td>\n",
              "      <td>0.0</td>\n",
              "      <td>1.0</td>\n",
              "      <td>0.0</td>\n",
              "      <td>0.0</td>\n",
              "      <td>0.0</td>\n",
              "      <td>1.0</td>\n",
              "      <td>0.0</td>\n",
              "      <td>0.0</td>\n",
              "      <td>0.0</td>\n",
              "      <td>1.0</td>\n",
              "      <td>0.0</td>\n",
              "      <td>1.0</td>\n",
              "      <td>0.0</td>\n",
              "      <td>1.0</td>\n",
              "      <td>0.0</td>\n",
              "    </tr>\n",
              "    <tr>\n",
              "      <th>5</th>\n",
              "      <td>1.0</td>\n",
              "      <td>1.0</td>\n",
              "      <td>0.0</td>\n",
              "      <td>0.0</td>\n",
              "      <td>0.0</td>\n",
              "      <td>0.0</td>\n",
              "      <td>0.0</td>\n",
              "      <td>1.0</td>\n",
              "      <td>0.0</td>\n",
              "      <td>0.0</td>\n",
              "      <td>0.0</td>\n",
              "      <td>1.0</td>\n",
              "      <td>0.0</td>\n",
              "      <td>0.0</td>\n",
              "      <td>1.0</td>\n",
              "      <td>0.0</td>\n",
              "      <td>0.0</td>\n",
              "      <td>0.0</td>\n",
              "      <td>1.0</td>\n",
              "      <td>1.0</td>\n",
              "      <td>0.0</td>\n",
              "      <td>0.0</td>\n",
              "      <td>0.0</td>\n",
              "      <td>0.0</td>\n",
              "      <td>1.0</td>\n",
              "      <td>0.0</td>\n",
              "      <td>1.0</td>\n",
              "      <td>0.0</td>\n",
              "      <td>0.0</td>\n",
              "      <td>1.0</td>\n",
              "    </tr>\n",
              "    <tr>\n",
              "      <th>6</th>\n",
              "      <td>1.0</td>\n",
              "      <td>0.0</td>\n",
              "      <td>1.0</td>\n",
              "      <td>0.0</td>\n",
              "      <td>0.0</td>\n",
              "      <td>0.0</td>\n",
              "      <td>0.0</td>\n",
              "      <td>1.0</td>\n",
              "      <td>0.0</td>\n",
              "      <td>0.0</td>\n",
              "      <td>0.0</td>\n",
              "      <td>1.0</td>\n",
              "      <td>0.0</td>\n",
              "      <td>0.0</td>\n",
              "      <td>0.0</td>\n",
              "      <td>1.0</td>\n",
              "      <td>1.0</td>\n",
              "      <td>0.0</td>\n",
              "      <td>0.0</td>\n",
              "      <td>1.0</td>\n",
              "      <td>0.0</td>\n",
              "      <td>0.0</td>\n",
              "      <td>0.0</td>\n",
              "      <td>0.0</td>\n",
              "      <td>1.0</td>\n",
              "      <td>0.0</td>\n",
              "      <td>1.0</td>\n",
              "      <td>0.0</td>\n",
              "      <td>0.0</td>\n",
              "      <td>0.0</td>\n",
              "    </tr>\n",
              "    <tr>\n",
              "      <th>7</th>\n",
              "      <td>1.0</td>\n",
              "      <td>1.0</td>\n",
              "      <td>0.0</td>\n",
              "      <td>0.0</td>\n",
              "      <td>0.0</td>\n",
              "      <td>0.0</td>\n",
              "      <td>0.0</td>\n",
              "      <td>0.0</td>\n",
              "      <td>1.0</td>\n",
              "      <td>0.0</td>\n",
              "      <td>0.0</td>\n",
              "      <td>0.0</td>\n",
              "      <td>1.0</td>\n",
              "      <td>1.0</td>\n",
              "      <td>0.0</td>\n",
              "      <td>0.0</td>\n",
              "      <td>0.0</td>\n",
              "      <td>1.0</td>\n",
              "      <td>0.0</td>\n",
              "      <td>1.0</td>\n",
              "      <td>0.0</td>\n",
              "      <td>0.0</td>\n",
              "      <td>1.0</td>\n",
              "      <td>0.0</td>\n",
              "      <td>0.0</td>\n",
              "      <td>1.0</td>\n",
              "      <td>0.0</td>\n",
              "      <td>0.0</td>\n",
              "      <td>0.0</td>\n",
              "      <td>0.0</td>\n",
              "    </tr>\n",
              "    <tr>\n",
              "      <th>8</th>\n",
              "      <td>1.0</td>\n",
              "      <td>1.0</td>\n",
              "      <td>0.0</td>\n",
              "      <td>0.0</td>\n",
              "      <td>0.0</td>\n",
              "      <td>0.0</td>\n",
              "      <td>0.0</td>\n",
              "      <td>0.0</td>\n",
              "      <td>0.0</td>\n",
              "      <td>1.0</td>\n",
              "      <td>0.0</td>\n",
              "      <td>0.0</td>\n",
              "      <td>1.0</td>\n",
              "      <td>0.0</td>\n",
              "      <td>1.0</td>\n",
              "      <td>0.0</td>\n",
              "      <td>0.0</td>\n",
              "      <td>0.0</td>\n",
              "      <td>1.0</td>\n",
              "      <td>0.0</td>\n",
              "      <td>0.0</td>\n",
              "      <td>1.0</td>\n",
              "      <td>0.0</td>\n",
              "      <td>0.0</td>\n",
              "      <td>1.0</td>\n",
              "      <td>0.0</td>\n",
              "      <td>0.0</td>\n",
              "      <td>1.0</td>\n",
              "      <td>0.0</td>\n",
              "      <td>1.0</td>\n",
              "    </tr>\n",
              "    <tr>\n",
              "      <th>9</th>\n",
              "      <td>1.0</td>\n",
              "      <td>1.0</td>\n",
              "      <td>0.0</td>\n",
              "      <td>0.0</td>\n",
              "      <td>0.0</td>\n",
              "      <td>0.0</td>\n",
              "      <td>0.0</td>\n",
              "      <td>0.0</td>\n",
              "      <td>1.0</td>\n",
              "      <td>0.0</td>\n",
              "      <td>0.0</td>\n",
              "      <td>0.0</td>\n",
              "      <td>1.0</td>\n",
              "      <td>0.0</td>\n",
              "      <td>0.0</td>\n",
              "      <td>1.0</td>\n",
              "      <td>0.0</td>\n",
              "      <td>0.0</td>\n",
              "      <td>1.0</td>\n",
              "      <td>0.0</td>\n",
              "      <td>0.0</td>\n",
              "      <td>1.0</td>\n",
              "      <td>1.0</td>\n",
              "      <td>0.0</td>\n",
              "      <td>0.0</td>\n",
              "      <td>1.0</td>\n",
              "      <td>0.0</td>\n",
              "      <td>0.0</td>\n",
              "      <td>0.0</td>\n",
              "      <td>0.0</td>\n",
              "    </tr>\n",
              "  </tbody>\n",
              "</table>\n",
              "</div>"
            ],
            "text/plain": [
              "   addedFeature  ...  lineItemVoidsPerPosition_lo\n",
              "0           1.0  ...                          0.0\n",
              "1           1.0  ...                          0.0\n",
              "2           1.0  ...                          1.0\n",
              "3           1.0  ...                          0.0\n",
              "4           1.0  ...                          0.0\n",
              "5           1.0  ...                          1.0\n",
              "6           1.0  ...                          0.0\n",
              "7           1.0  ...                          0.0\n",
              "8           1.0  ...                          1.0\n",
              "9           1.0  ...                          0.0\n",
              "\n",
              "[10 rows x 30 columns]"
            ]
          },
          "metadata": {
            "tags": []
          },
          "execution_count": 136
        }
      ]
    },
    {
      "cell_type": "code",
      "metadata": {
        "id": "USIoErdmZHyk",
        "colab": {
          "base_uri": "https://localhost:8080/"
        },
        "outputId": "1270b573-de36-4b5f-d8d7-122369b37f8d"
      },
      "source": [
        "y.tail(10)"
      ],
      "execution_count": 137,
      "outputs": [
        {
          "output_type": "execute_result",
          "data": {
            "text/plain": [
              "190    1.0\n",
              "191    1.0\n",
              "192    1.0\n",
              "193    1.0\n",
              "194    1.0\n",
              "195    1.0\n",
              "196    1.0\n",
              "197    1.0\n",
              "198    1.0\n",
              "199    1.0\n",
              "Name: fraud, dtype: float64"
            ]
          },
          "metadata": {
            "tags": []
          },
          "execution_count": 137
        }
      ]
    },
    {
      "cell_type": "markdown",
      "metadata": {
        "id": "EXGPWKuzFKKZ"
      },
      "source": [
        "**Logistic Modelling dengan Metode Newton**\r\n",
        "\r\n",
        "Dalam menentukan parameter beta optimal terdapat langkah iteratif sebagai mana berikut.\r\n",
        "\r\n",
        "![picture](https://drive.google.com/uc?export=view&id=1HWYbkfRp_pRCnM1usuovaDyOXjdLc-vU)\r\n",
        "\r\n",
        "---\r\n",
        "\r\n",
        "Terlihat pada gambar bahwa, perulangan akan terjadi dengan syarat jumlah iterasi lebih kecil dari N (parameter iterasi maksimal) dan nilai error lebih kecil dari nilai toleransi (TOLL) yang ditetapkan.\r\n",
        "\r\n",
        "---\r\n",
        "\r\n"
      ]
    },
    {
      "cell_type": "code",
      "metadata": {
        "id": "TQ4aTaCSD2og"
      },
      "source": [
        "#rumus error\r\n",
        "def error(bNew, bOld):\r\n",
        "  return  min(np.absolute(bNew-bOld))\r\n",
        "\r\n",
        "#rumus F(beta)\r\n",
        "def fungsiF(X,y,p):\r\n",
        "  X = X.transpose()\r\n",
        "  return -1*(X)*(y-p)\r\n",
        "\r\n",
        "#rumus J(beta)\r\n",
        "def fungsiJ(X,V):\r\n",
        "  XTranspose = X.transpose().to_numpy()\r\n",
        "  X = X.to_numpy()\r\n",
        "  V = V.to_numpy()\r\n",
        "  return XTranspose@X@V\r\n",
        "\r\n",
        "#rumus pi\r\n",
        "def pi(z):\r\n",
        "  return (np.exp(z))/(1+np.exp(z))\r\n",
        "\r\n",
        "#rumus z\r\n",
        "def findZ(beta,idx):\r\n",
        "  temp = beta[0]\r\n",
        "  col = X.columns\r\n",
        "  n = len(col)\r\n",
        "  i = 1\r\n",
        "  # print(beta[i],X[col[i]][i])\r\n",
        "  while(i<n):\r\n",
        "    temp += beta[i]*X[col[i]][idx]\r\n",
        "    i += 1\r\n",
        "  return temp\r\n",
        "\r\n",
        "#fungsi V\r\n",
        "def findV(pi):\r\n",
        "  V = []\r\n",
        "  col = A_train.columns\r\n",
        "  #perulangan untuk menyisipkan baris sepanjang jumlah pi dan sebanyak jumlah pi\r\n",
        "  for i in range(len(col)):\r\n",
        "    row = np.linspace(0.0, 0.0, len(col))\r\n",
        "    V.append(row)\r\n",
        "  #perulangan untuk menghitung Vi(B)\r\n",
        "  for i in range(len(col)):\r\n",
        "    for j in range(len(col)):\r\n",
        "      if i == j:\r\n",
        "        if i == 0:\r\n",
        "          V[i][j] = 1\r\n",
        "        else:\r\n",
        "          # print(i,j,V[i][j],pi[i])\r\n",
        "          V[i][j] = pi[i]*(1-pi[i])\r\n",
        "  return V\r\n",
        "\r\n",
        "def matriglar(a):\r\n",
        "  return a.shape[0] == a.shape[1] and np.linalg.matrix_rank(a) == a.shape[0]"
      ],
      "execution_count": 138,
      "outputs": []
    },
    {
      "cell_type": "markdown",
      "metadata": {
        "id": "8tpphpFCHlEq"
      },
      "source": [
        "---\r\n",
        "Sebelum memasuki proses iterasi newton untuk mencari beta optimal, dataset dibagi terlebih dahulu dalam data latih dan data uji. Data latih akan digunakan parameter beta optimal, sementar data uji akan digunakan sebagai data klasifikasi.\r\n",
        "\r\n",
        "---\r\n",
        "\r\n"
      ]
    },
    {
      "cell_type": "code",
      "metadata": {
        "id": "rTGGOsEzflsv"
      },
      "source": [
        "A = X.copy()\r\n",
        "Y = y.copy()\r\n",
        "A_train, A_test, y_train, y_test = train_test_split(A, Y, test_size=0.4, random_state=1) \r\n",
        "col = X.columns\r\n",
        "beta = np.linspace(0.0, 0.0, len(col))\r\n",
        "p = []"
      ],
      "execution_count": 139,
      "outputs": []
    },
    {
      "cell_type": "code",
      "metadata": {
        "id": "4EUb1MG498JE"
      },
      "source": [
        "A_train = A_train.reset_index(drop=True)\r\n",
        "A_test = A_test.reset_index(drop=True)\r\n",
        "y_train = y_train.reset_index(drop=True)\r\n",
        "y_test = y_test.reset_index(drop=True)"
      ],
      "execution_count": 140,
      "outputs": []
    },
    {
      "cell_type": "code",
      "metadata": {
        "id": "pKrn99WFoRO5"
      },
      "source": [
        "TOL = 0.0001\r\n",
        "N = 20"
      ],
      "execution_count": 141,
      "outputs": []
    },
    {
      "cell_type": "code",
      "metadata": {
        "colab": {
          "base_uri": "https://localhost:8080/"
        },
        "id": "cuTLlTar2jvQ",
        "outputId": "963b620c-5e08-40a2-b397-a0626a63ae3f"
      },
      "source": [
        "import numpy as geek \r\n",
        "#step 1\r\n",
        "k= 1\r\n",
        "betaold=np.linspace(1.0, 1.0, len(col))\r\n",
        "\r\n",
        "#Step 2 \r\n",
        "while (k<=N) and (error(beta,betaold)>TOL) :\r\n",
        "  pnew = []\r\n",
        "  for i in range(len(A_train)):\r\n",
        "    z = findZ(beta,i)\r\n",
        "    pnew.append(pi(z))\r\n",
        "  p = pnew\r\n",
        "  V = pd.DataFrame(findV(p))\r\n",
        "  #step 3\r\n",
        "  F = (fungsiF(A_train,y_train,p)).to_numpy()\r\n",
        "  J = fungsiJ(A_train,V)\r\n",
        "  #step 4\r\n",
        "  yy = np.linalg.pinv(J)@(F)\r\n",
        "  betaold = beta\r\n",
        "  #step 5\r\n",
        "  beta = geek.subtract(beta,yy.transpose())\r\n",
        "  beta = beta[0]\r\n",
        "  k += 1\r\n",
        "  \r\n",
        "print('iteration: ', k)\r\n",
        "print('error: ',error(beta,betaold))\r\n",
        "print(beta)"
      ],
      "execution_count": 142,
      "outputs": [
        {
          "output_type": "stream",
          "text": [
            "iteration:  21\n",
            "error:  0.001901633279926207\n",
            "[-2.69895687e-05 -7.16931655e-01  2.06201535e-01 -1.16653409e+00\n",
            " -6.89456311e-01  2.60015457e+00  8.64628520e-01  2.59602145e+00\n",
            " -5.59168261e+00  1.74925882e+00 -1.53741635e+00  1.33266016e+00\n",
            " -2.73101386e-02 -4.11113686e-01  5.74778449e-01 -3.19572044e-01\n",
            "  1.34281266e-01 -7.09434793e-01  1.17041091e+00 -1.12645215e+00\n",
            "  1.42742033e+00 -1.48466921e-01  6.25836689e-01 -1.90091326e+00\n",
            " -5.35133588e-01  3.98201282e+00 -2.44808612e+00 -8.99542171e-01\n",
            "  1.16499463e+00  5.30292047e-01]\n"
          ],
          "name": "stdout"
        }
      ]
    },
    {
      "cell_type": "markdown",
      "metadata": {
        "id": "1zAhMA2ZGYQk"
      },
      "source": [
        "Pada proses running code sebelumnya didapati parameter beta yang optimal setelah iterasi ke 21 dengan nilai error 0.001901633279926207. Terlihat sebagaimana berikut.\r\n",
        "\r\n",
        "![picture](https://drive.google.com/uc?export=view&id=1mLkn19C0rPSBsCAbvjA9wwF37IlfFCQo)\r\n",
        "\r\n",
        "---\r\n",
        "\r\n",
        "Selanjutnya adalah penghitungan nilai kelas (phi) menggunakan parameter betha yang optimal.\r\n",
        "\r\n",
        "---\r\n",
        "\r\n"
      ]
    },
    {
      "cell_type": "code",
      "metadata": {
        "id": "aLCRiKp_YsS2"
      },
      "source": [
        "p=[]\r\n",
        "for i in range(len(A_test)):\r\n",
        "  z = findZ(beta,i)\r\n",
        "  p.append(pi(z))"
      ],
      "execution_count": 143,
      "outputs": []
    },
    {
      "cell_type": "markdown",
      "metadata": {
        "id": "guTtRpkaIjoh"
      },
      "source": [
        "\r\n",
        "\r\n",
        "---\r\n",
        "\r\n",
        "\r\n",
        "Data uji yang sudah melalui proses penghitungan nilai kelas (phi) akan memiliki nilai yang berkisar antara 0.0 sampai 1.0. Selanjutnya adalah pembuatan aturan klasifikasi yang mana akan menempatkan masing-masing baris kepada kelas yang sesuai (0 dan 1)\r\n",
        "\r\n",
        "\r\n",
        "---\r\n",
        "\r\n",
        "Pada proses running code sebelumnya ditemukan nilai aturan yang memiliki akurasi klasifikasi yang terbesar yaitu 0.6. Nilai aturan tersebut adalah 0.536.Aturan ini mengartikan bahwa p > 0.536 akan diklasifikasikan sebagai kelas 1 (terjadi penipuan), dan jika p < 0.536 data akan diklasifikasikan sebagai kelas 0 (tidak terjadi penipuan). Berikut adalah hasilnya.\r\n",
        "\r\n",
        "\r\n",
        "\r\n",
        "> ![picture](https://drive.google.com/uc?export=view&id=1Z8jinEjxxWXXnIOo4Lnl0H4zUG4TqFK4)\r\n",
        "\r\n",
        "\r\n"
      ]
    },
    {
      "cell_type": "code",
      "metadata": {
        "colab": {
          "base_uri": "https://localhost:8080/",
          "height": 491
        },
        "id": "kSzcsKvfx6sJ",
        "outputId": "500e10ab-515e-4d3b-d2af-5ea5b7a5c48c"
      },
      "source": [
        "from sklearn.metrics import accuracy_score\r\n",
        "\r\n",
        "rules = list(np.arange(0.0,1.0,0.002))\r\n",
        "accuracy = 0\r\n",
        "rule = 0\r\n",
        "kelas = []\r\n",
        "for i in range (len(rules)):\r\n",
        "  temp = []\r\n",
        "  for j in range(len(p)):\r\n",
        "    if p[j] > rules[i]:\r\n",
        "      temp.append(1)\r\n",
        "    else:\r\n",
        "      temp.append(0)\r\n",
        "  score = accuracy_score(y_test, temp)\r\n",
        "  if score > accuracy:\r\n",
        "    accuracy = score\r\n",
        "    rule = rules[i]\r\n",
        "    kelas = temp\r\n",
        "\r\n",
        "print(\"Aturan: \",rule,\"; Akurasi: \",accuracy)\r\n",
        "\r\n",
        "#plotting confusion matrix\r\n",
        "f, ax = plt.subplots(figsize=(8,5))\r\n",
        "sns.heatmap(confusion_matrix(y_test, kelas), annot=True, fmt=\".0f\", ax=ax)\r\n",
        "plt.show()\r\n",
        "#metrik pengukuran hasil klasifikasi\r\n",
        "print (classification_report(y_test, kelas))"
      ],
      "execution_count": 144,
      "outputs": [
        {
          "output_type": "stream",
          "text": [
            "Aturan:  0.536 ; Akurasi:  0.6\n"
          ],
          "name": "stdout"
        },
        {
          "output_type": "display_data",
          "data": {
            "image/png": "[encoded data removed]",
            "text/plain": [
              "<Figure size 576x360 with 2 Axes>"
            ]
          },
          "metadata": {
            "tags": [],
            "needs_background": "light"
          }
        },
        {
          "output_type": "stream",
          "text": [
            "              precision    recall  f1-score   support\n",
            "\n",
            "         0.0       0.60      0.68      0.64        41\n",
            "         1.0       0.61      0.51      0.56        39\n",
            "\n",
            "    accuracy                           0.60        80\n",
            "   macro avg       0.60      0.60      0.60        80\n",
            "weighted avg       0.60      0.60      0.60        80\n",
            "\n"
          ],
          "name": "stdout"
        }
      ]
    },
    {
      "cell_type": "markdown",
      "metadata": {
        "id": "hLl6javqKYML"
      },
      "source": [
        "---\r\n",
        "\r\n",
        "Hasil akurasi dari setiap proses running code berkemungkinan berubah-ubah. Hal ini dikarenakan dataset yang digunakan adalah dataset hasil sampling pada program.\r\n",
        "\r\n",
        "\r\n",
        "---"
      ]
    }
  ]
}